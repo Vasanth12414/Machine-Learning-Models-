{
  "nbformat": 4,
  "nbformat_minor": 0,
  "metadata": {
    "colab": {
      "provenance": [],
      "gpuType": "T4",
      "authorship_tag": "ABX9TyPKu9mmA8foR5GVbRbt8b9v",
      "include_colab_link": true
    },
    "kernelspec": {
      "name": "python3",
      "display_name": "Python 3"
    },
    "language_info": {
      "name": "python"
    },
    "accelerator": "GPU"
  },
  "cells": [
    {
      "cell_type": "markdown",
      "metadata": {
        "id": "view-in-github",
        "colab_type": "text"
      },
      "source": [
        "<a href=\"https://colab.research.google.com/github/Vasanth12414/Machine-Learning-Models-/blob/main/HealthCare.ipynb\" target=\"_parent\"><img src=\"https://colab.research.google.com/assets/colab-badge.svg\" alt=\"Open In Colab\"/></a>"
      ]
    },
    {
      "cell_type": "code",
      "execution_count": 13,
      "metadata": {
        "id": "BZZJOxxY05aM"
      },
      "outputs": [],
      "source": [
        "import seaborn as sns\n",
        "import matplotlib.pyplot as plt\n",
        "import warnings\n",
        "import numpy as np\n",
        "import pandas as pd\n",
        "from sklearn.model_selection import (\n",
        "    train_test_split,\n",
        "    GridSearchCV,\n",
        "    cross_val_score,\n",
        ")\n",
        "from sklearn.metrics import (\n",
        "    accuracy_score,\n",
        "    confusion_matrix,\n",
        "    roc_auc_score,\n",
        "    precision_score,\n",
        "    recall_score,\n",
        "    f1_score,\n",
        "    classification_report,\n",
        "    roc_curve,\n",
        "    auc,\n",
        ")\n",
        "from sklearn.preprocessing import OneHotEncoder, LabelEncoder\n",
        "from sklearn.compose import ColumnTransformer\n",
        "from sklearn.impute import SimpleImputer\n",
        "from imblearn.over_sampling import SMOTE\n",
        "from sklearn.linear_model import LogisticRegression\n",
        "from sklearn.neighbors import KNeighborsClassifier\n",
        "from sklearn.tree import DecisionTreeClassifier\n",
        "from sklearn.ensemble import RandomForestClassifier\n",
        "from xgboost import XGBClassifier\n"
      ]
    },
    {
      "cell_type": "code",
      "source": [
        "df = pd.read_csv('healthcare-dataset-stroke-data.csv')\n"
      ],
      "metadata": {
        "id": "qrV7XXkZ1OBI"
      },
      "execution_count": 14,
      "outputs": []
    },
    {
      "cell_type": "code",
      "source": [
        "df.bmi.replace(to_replace=np.nan, value=df.bmi.mean(), inplace=True)\n"
      ],
      "metadata": {
        "colab": {
          "base_uri": "https://localhost:8080/"
        },
        "id": "mHPiN2Ko1SGV",
        "outputId": "e1d61c3e-7257-458e-c3ce-764fe2d26521"
      },
      "execution_count": 15,
      "outputs": [
        {
          "output_type": "stream",
          "name": "stderr",
          "text": [
            "<ipython-input-15-31bf7a01b39e>:1: FutureWarning: A value is trying to be set on a copy of a DataFrame or Series through chained assignment using an inplace method.\n",
            "The behavior will change in pandas 3.0. This inplace method will never work because the intermediate object on which we are setting values always behaves as a copy.\n",
            "\n",
            "For example, when doing 'df[col].method(value, inplace=True)', try using 'df.method({col: value}, inplace=True)' or df[col] = df[col].method(value) instead, to perform the operation inplace on the original object.\n",
            "\n",
            "\n",
            "  df.bmi.replace(to_replace=np.nan, value=df.bmi.mean(), inplace=True)\n"
          ]
        }
      ]
    },
    {
      "cell_type": "code",
      "source": [
        "le = LabelEncoder()\n",
        "df['gender'] = le.fit_transform(df['gender'])\n",
        "df['ever_married'] = le.fit_transform(df['ever_married'])\n",
        "df['work_type'] = le.fit_transform(df['work_type'])\n",
        "df['Residence_type'] = le.fit_transform(df['Residence_type'])\n",
        "df['smoking_status'] = le.fit_transform(df['smoking_status'])\n",
        "x = df.iloc[:, 1:-1].values\n",
        "y = df.iloc[:, -1].values\n",
        "\n",
        "ct = ColumnTransformer(\n",
        "    transformers=[('encoder', OneHotEncoder(), [0, 5, 9])], remainder='passthrough'\n",
        ")\n",
        "x = np.array(ct.fit_transform(x))\n",
        "X_train, X_test, y_train, y_test = train_test_split(\n",
        "    x, y, test_size=0.2, random_state=0\n",
        ")\n"
      ],
      "metadata": {
        "id": "UcJVmuXF1V2c"
      },
      "execution_count": 16,
      "outputs": []
    },
    {
      "cell_type": "code",
      "source": [
        "print('Before OverSampling, counts of label 1: {}'.format(sum(y_train == 1)))\n",
        "print('Before OverSampling, counts of label 0: {}\\n'.format(sum(y_train == 0)))\n",
        "sm = SMOTE(random_state=2)\n",
        "X_train_res, y_train_res = sm.fit_resample(X_train, y_train.ravel())\n",
        "print('After OverSampling, the shape of train_x: {}'.format(X_train_res.shape))\n",
        "print('After OverSampling, the shape of train_y: {}'.format(y_train_res.shape))\n",
        "print('After OverSampling, counts of label 1: {}'.format(sum(y_train_res == 1)))\n",
        "print('After OverSampling, counts of label 0: {}'.format(sum(y_train_res == 0)))\n"
      ],
      "metadata": {
        "colab": {
          "base_uri": "https://localhost:8080/"
        },
        "id": "KVGzPeki1bNn",
        "outputId": "2aba6069-75c1-4a16-ed06-1dc26d6030bc"
      },
      "execution_count": 17,
      "outputs": [
        {
          "output_type": "stream",
          "name": "stdout",
          "text": [
            "Before OverSampling, counts of label 1: 195\n",
            "Before OverSampling, counts of label 0: 3893\n",
            "\n",
            "After OverSampling, the shape of train_x: (7786, 19)\n",
            "After OverSampling, the shape of train_y: (7786,)\n",
            "After OverSampling, counts of label 1: 3893\n",
            "After OverSampling, counts of label 0: 3893\n"
          ]
        }
      ]
    },
    {
      "cell_type": "code",
      "source": [
        "models = [\n",
        "    ['XGBClassifier', XGBClassifier(learning_rate=0.1, objective='binary:logistic', random_state=0, eval_metric='mlogloss')],\n",
        "    ['Logistic Regression', LogisticRegression(random_state=0)],\n",
        "    ['KNeigbors', KNeighborsClassifier()],\n",
        "    ['DecisionTree', DecisionTreeClassifier(random_state=0)],\n",
        "    ['RandomForest', RandomForestClassifier(random_state=0)]\n",
        "]\n",
        "\n",
        "\n"
      ],
      "metadata": {
        "id": "zsctGBv51eef"
      },
      "execution_count": 18,
      "outputs": []
    },
    {
      "cell_type": "code",
      "source": [
        "lst_1 = []\n",
        "for m in range(len(models)):\n",
        "    lst_2 = []\n",
        "    model = models[m][1]\n",
        "    model.fit(X_train_res, y_train_res)\n",
        "    y_pred = model.predict(X_test)\n",
        "    cm = confusion_matrix(y_test, y_pred)\n",
        "    accuracies = cross_val_score(estimator=model, X=X_train_res, y=y_train_res, cv=10)\n"
      ],
      "metadata": {
        "colab": {
          "base_uri": "https://localhost:8080/"
        },
        "id": "koINqGM21iEk",
        "outputId": "15bc6c07-4213-41b1-8161-2d1928078bda"
      },
      "execution_count": 19,
      "outputs": [
        {
          "output_type": "stream",
          "name": "stderr",
          "text": [
            "/usr/local/lib/python3.11/dist-packages/sklearn/linear_model/_logistic.py:465: ConvergenceWarning: lbfgs failed to converge (status=1):\n",
            "STOP: TOTAL NO. OF ITERATIONS REACHED LIMIT.\n",
            "\n",
            "Increase the number of iterations (max_iter) or scale the data as shown in:\n",
            "    https://scikit-learn.org/stable/modules/preprocessing.html\n",
            "Please also refer to the documentation for alternative solver options:\n",
            "    https://scikit-learn.org/stable/modules/linear_model.html#logistic-regression\n",
            "  n_iter_i = _check_optimize_result(\n",
            "/usr/local/lib/python3.11/dist-packages/sklearn/linear_model/_logistic.py:465: ConvergenceWarning: lbfgs failed to converge (status=1):\n",
            "STOP: TOTAL NO. OF ITERATIONS REACHED LIMIT.\n",
            "\n",
            "Increase the number of iterations (max_iter) or scale the data as shown in:\n",
            "    https://scikit-learn.org/stable/modules/preprocessing.html\n",
            "Please also refer to the documentation for alternative solver options:\n",
            "    https://scikit-learn.org/stable/modules/linear_model.html#logistic-regression\n",
            "  n_iter_i = _check_optimize_result(\n",
            "/usr/local/lib/python3.11/dist-packages/sklearn/linear_model/_logistic.py:465: ConvergenceWarning: lbfgs failed to converge (status=1):\n",
            "STOP: TOTAL NO. OF ITERATIONS REACHED LIMIT.\n",
            "\n",
            "Increase the number of iterations (max_iter) or scale the data as shown in:\n",
            "    https://scikit-learn.org/stable/modules/preprocessing.html\n",
            "Please also refer to the documentation for alternative solver options:\n",
            "    https://scikit-learn.org/stable/modules/linear_model.html#logistic-regression\n",
            "  n_iter_i = _check_optimize_result(\n",
            "/usr/local/lib/python3.11/dist-packages/sklearn/linear_model/_logistic.py:465: ConvergenceWarning: lbfgs failed to converge (status=1):\n",
            "STOP: TOTAL NO. OF ITERATIONS REACHED LIMIT.\n",
            "\n",
            "Increase the number of iterations (max_iter) or scale the data as shown in:\n",
            "    https://scikit-learn.org/stable/modules/preprocessing.html\n",
            "Please also refer to the documentation for alternative solver options:\n",
            "    https://scikit-learn.org/stable/modules/linear_model.html#logistic-regression\n",
            "  n_iter_i = _check_optimize_result(\n",
            "/usr/local/lib/python3.11/dist-packages/sklearn/linear_model/_logistic.py:465: ConvergenceWarning: lbfgs failed to converge (status=1):\n",
            "STOP: TOTAL NO. OF ITERATIONS REACHED LIMIT.\n",
            "\n",
            "Increase the number of iterations (max_iter) or scale the data as shown in:\n",
            "    https://scikit-learn.org/stable/modules/preprocessing.html\n",
            "Please also refer to the documentation for alternative solver options:\n",
            "    https://scikit-learn.org/stable/modules/linear_model.html#logistic-regression\n",
            "  n_iter_i = _check_optimize_result(\n",
            "/usr/local/lib/python3.11/dist-packages/sklearn/linear_model/_logistic.py:465: ConvergenceWarning: lbfgs failed to converge (status=1):\n",
            "STOP: TOTAL NO. OF ITERATIONS REACHED LIMIT.\n",
            "\n",
            "Increase the number of iterations (max_iter) or scale the data as shown in:\n",
            "    https://scikit-learn.org/stable/modules/preprocessing.html\n",
            "Please also refer to the documentation for alternative solver options:\n",
            "    https://scikit-learn.org/stable/modules/linear_model.html#logistic-regression\n",
            "  n_iter_i = _check_optimize_result(\n",
            "/usr/local/lib/python3.11/dist-packages/sklearn/linear_model/_logistic.py:465: ConvergenceWarning: lbfgs failed to converge (status=1):\n",
            "STOP: TOTAL NO. OF ITERATIONS REACHED LIMIT.\n",
            "\n",
            "Increase the number of iterations (max_iter) or scale the data as shown in:\n",
            "    https://scikit-learn.org/stable/modules/preprocessing.html\n",
            "Please also refer to the documentation for alternative solver options:\n",
            "    https://scikit-learn.org/stable/modules/linear_model.html#logistic-regression\n",
            "  n_iter_i = _check_optimize_result(\n",
            "/usr/local/lib/python3.11/dist-packages/sklearn/linear_model/_logistic.py:465: ConvergenceWarning: lbfgs failed to converge (status=1):\n",
            "STOP: TOTAL NO. OF ITERATIONS REACHED LIMIT.\n",
            "\n",
            "Increase the number of iterations (max_iter) or scale the data as shown in:\n",
            "    https://scikit-learn.org/stable/modules/preprocessing.html\n",
            "Please also refer to the documentation for alternative solver options:\n",
            "    https://scikit-learn.org/stable/modules/linear_model.html#logistic-regression\n",
            "  n_iter_i = _check_optimize_result(\n",
            "/usr/local/lib/python3.11/dist-packages/sklearn/linear_model/_logistic.py:465: ConvergenceWarning: lbfgs failed to converge (status=1):\n",
            "STOP: TOTAL NO. OF ITERATIONS REACHED LIMIT.\n",
            "\n",
            "Increase the number of iterations (max_iter) or scale the data as shown in:\n",
            "    https://scikit-learn.org/stable/modules/preprocessing.html\n",
            "Please also refer to the documentation for alternative solver options:\n",
            "    https://scikit-learn.org/stable/modules/linear_model.html#logistic-regression\n",
            "  n_iter_i = _check_optimize_result(\n",
            "/usr/local/lib/python3.11/dist-packages/sklearn/linear_model/_logistic.py:465: ConvergenceWarning: lbfgs failed to converge (status=1):\n",
            "STOP: TOTAL NO. OF ITERATIONS REACHED LIMIT.\n",
            "\n",
            "Increase the number of iterations (max_iter) or scale the data as shown in:\n",
            "    https://scikit-learn.org/stable/modules/preprocessing.html\n",
            "Please also refer to the documentation for alternative solver options:\n",
            "    https://scikit-learn.org/stable/modules/linear_model.html#logistic-regression\n",
            "  n_iter_i = _check_optimize_result(\n",
            "/usr/local/lib/python3.11/dist-packages/sklearn/linear_model/_logistic.py:465: ConvergenceWarning: lbfgs failed to converge (status=1):\n",
            "STOP: TOTAL NO. OF ITERATIONS REACHED LIMIT.\n",
            "\n",
            "Increase the number of iterations (max_iter) or scale the data as shown in:\n",
            "    https://scikit-learn.org/stable/modules/preprocessing.html\n",
            "Please also refer to the documentation for alternative solver options:\n",
            "    https://scikit-learn.org/stable/modules/linear_model.html#logistic-regression\n",
            "  n_iter_i = _check_optimize_result(\n"
          ]
        }
      ]
    },
    {
      "cell_type": "code",
      "source": [
        "precision = precision_score(y_test, y_pred)\n",
        "recall = recall_score(y_test, y_pred)\n",
        "f1 = f1_score(y_test, y_pred)\n",
        "print(models[m][0], ':')\n",
        "print(cm)\n",
        "print('Accuracy Score: ', accuracy_score(y_test, y_pred))\n",
        "print('')\n",
        "print('K-Fold Validation Mean Accuracy: {:.2f} %'.format(accuracies.mean() * 100))\n",
        "print('')\n",
        "print('Standard Deviation: {:.2f} %'.format(accuracies.std() * 100))\n",
        "print('')\n"
      ],
      "metadata": {
        "colab": {
          "base_uri": "https://localhost:8080/"
        },
        "id": "0nwQohfH1uCb",
        "outputId": "a735df61-3618-4901-ea8c-4db856fb41a5"
      },
      "execution_count": 21,
      "outputs": [
        {
          "output_type": "stream",
          "name": "stdout",
          "text": [
            "RandomForest :\n",
            "[[963   5]\n",
            " [ 52   2]]\n",
            "Accuracy Score:  0.9442270058708415\n",
            "\n",
            "K-Fold Validation Mean Accuracy: 97.16 %\n",
            "\n",
            "Standard Deviation: 6.76 %\n",
            "\n"
          ]
        }
      ]
    },
    {
      "cell_type": "code",
      "source": [
        "print('Precision: {:.2f} %'.format(precision))\n",
        "print('')\n",
        "print('Recall: {:.2f} %'.format(recall))\n",
        "print('')\n",
        "print('F1 Score: {:.2f} %'.format(f1))\n",
        "print('-' * 40)\n",
        "print('')\n",
        "lst_2.append(models[m][0])\n",
        "lst_2.append(accuracy_score(y_test, y_pred) * 100)\n",
        "lst_2.append(accuracies.mean() * 100)\n",
        "lst_2.append(accuracies.std() * 100)\n",
        "lst_2.append(precision)\n",
        "lst_2.append(recall)\n",
        "lst_2.append(f1)\n",
        "lst_1.append(lst_2)\n"
      ],
      "metadata": {
        "colab": {
          "base_uri": "https://localhost:8080/"
        },
        "id": "GKRuagdh22mz",
        "outputId": "6a3e6bdb-8679-4e71-aa6d-44dd54330fe4"
      },
      "execution_count": 23,
      "outputs": [
        {
          "output_type": "stream",
          "name": "stdout",
          "text": [
            "Precision: 0.29 %\n",
            "\n",
            "Recall: 0.04 %\n",
            "\n",
            "F1 Score: 0.07 %\n",
            "----------------------------------------\n",
            "\n"
          ]
        }
      ]
    },
    {
      "cell_type": "code",
      "source": [
        "df2 = pd.DataFrame(\n",
        "    lst_1,\n",
        "    columns=['Model', 'Accuracy', 'K-Fold Mean Accuracy', 'Std.Deviation', 'Precision', 'Recall', 'F1 Score']\n",
        ")\n",
        "\n",
        "df2.sort_values(by=['Accuracy', 'K-Fold Mean Accuracy'], inplace=True, ascending=False)\n",
        "print(df2)\n",
        "\n",
        "sns.barplot(x='Accuracy', y='Model', data=df2, color='b')\n",
        "plt.title"
      ],
      "metadata": {
        "colab": {
          "base_uri": "https://localhost:8080/",
          "height": 727
        },
        "id": "dv7nu4vK3NBI",
        "outputId": "59640d25-b3de-42f4-ac9c-b2247eda1c46"
      },
      "execution_count": 24,
      "outputs": [
        {
          "output_type": "stream",
          "name": "stdout",
          "text": [
            "          Model   Accuracy  K-Fold Mean Accuracy  Std.Deviation  Precision  \\\n",
            "0  RandomForest  94.422701             97.162683       6.762548   0.285714   \n",
            "\n",
            "     Recall  F1 Score  \n",
            "0  0.037037  0.065574  \n"
          ]
        },
        {
          "output_type": "execute_result",
          "data": {
            "text/plain": [
              "<function matplotlib.pyplot.title(label: 'str', fontdict: 'dict[str, Any] | None' = None, loc: \"Literal['left', 'center', 'right'] | None\" = None, pad: 'float | None' = None, *, y: 'float | None' = None, **kwargs) -> 'Text'>"
            ],
            "text/html": [
              "<div style=\"max-width:800px; border: 1px solid var(--colab-border-color);\"><style>\n",
              "      pre.function-repr-contents {\n",
              "        overflow-x: auto;\n",
              "        padding: 8px 12px;\n",
              "        max-height: 500px;\n",
              "      }\n",
              "\n",
              "      pre.function-repr-contents.function-repr-contents-collapsed {\n",
              "        cursor: pointer;\n",
              "        max-height: 100px;\n",
              "      }\n",
              "    </style>\n",
              "    <pre style=\"white-space: initial; background:\n",
              "         var(--colab-secondary-surface-color); padding: 8px 12px;\n",
              "         border-bottom: 1px solid var(--colab-border-color);\"><b>matplotlib.pyplot.title</b><br/>def title(label: str, fontdict: dict[str, Any] | None=None, loc: Literal[&#x27;left&#x27;, &#x27;center&#x27;, &#x27;right&#x27;] | None=None, pad: float | None=None, *, y: float | None=None, **kwargs) -&gt; Text</pre><pre class=\"function-repr-contents function-repr-contents-collapsed\" style=\"\"><a class=\"filepath\" style=\"display:none\" href=\"#\">/usr/local/lib/python3.11/dist-packages/matplotlib/pyplot.py</a>Set a title for the Axes.\n",
              "\n",
              "Set one of the three available Axes titles. The available titles\n",
              "are positioned above the Axes in the center, flush with the left\n",
              "edge, and flush with the right edge.\n",
              "\n",
              "Parameters\n",
              "----------\n",
              "label : str\n",
              "    Text to use for the title\n",
              "\n",
              "fontdict : dict\n",
              "\n",
              "    .. admonition:: Discouraged\n",
              "\n",
              "       The use of *fontdict* is discouraged. Parameters should be passed as\n",
              "       individual keyword arguments or using dictionary-unpacking\n",
              "       ``set_title(..., **fontdict)``.\n",
              "\n",
              "    A dictionary controlling the appearance of the title text,\n",
              "    the default *fontdict* is::\n",
              "\n",
              "       {&#x27;fontsize&#x27;: rcParams[&#x27;axes.titlesize&#x27;],\n",
              "        &#x27;fontweight&#x27;: rcParams[&#x27;axes.titleweight&#x27;],\n",
              "        &#x27;color&#x27;: rcParams[&#x27;axes.titlecolor&#x27;],\n",
              "        &#x27;verticalalignment&#x27;: &#x27;baseline&#x27;,\n",
              "        &#x27;horizontalalignment&#x27;: loc}\n",
              "\n",
              "loc : {&#x27;center&#x27;, &#x27;left&#x27;, &#x27;right&#x27;}, default: :rc:`axes.titlelocation`\n",
              "    Which title to set.\n",
              "\n",
              "y : float, default: :rc:`axes.titley`\n",
              "    Vertical Axes location for the title (1.0 is the top).  If\n",
              "    None (the default) and :rc:`axes.titley` is also None, y is\n",
              "    determined automatically to avoid decorators on the Axes.\n",
              "\n",
              "pad : float, default: :rc:`axes.titlepad`\n",
              "    The offset of the title from the top of the Axes, in points.\n",
              "\n",
              "Returns\n",
              "-------\n",
              "`.Text`\n",
              "    The matplotlib text instance representing the title\n",
              "\n",
              "Other Parameters\n",
              "----------------\n",
              "**kwargs : `~matplotlib.text.Text` properties\n",
              "    Other keyword arguments are text properties, see `.Text` for a list\n",
              "    of valid text properties.\n",
              "\n",
              "Notes\n",
              "-----\n",
              "\n",
              ".. note::\n",
              "\n",
              "    This is the :ref:`pyplot wrapper &lt;pyplot_interface&gt;` for `.axes.Axes.set_title`.</pre>\n",
              "      <script>\n",
              "      if (google.colab.kernel.accessAllowed && google.colab.files && google.colab.files.view) {\n",
              "        for (const element of document.querySelectorAll('.filepath')) {\n",
              "          element.style.display = 'block'\n",
              "          element.onclick = (event) => {\n",
              "            event.preventDefault();\n",
              "            event.stopPropagation();\n",
              "            google.colab.files.view(element.textContent, 4375);\n",
              "          };\n",
              "        }\n",
              "      }\n",
              "      for (const element of document.querySelectorAll('.function-repr-contents')) {\n",
              "        element.onclick = (event) => {\n",
              "          event.preventDefault();\n",
              "          event.stopPropagation();\n",
              "          element.classList.toggle('function-repr-contents-collapsed');\n",
              "        };\n",
              "      }\n",
              "      </script>\n",
              "      </div>"
            ]
          },
          "metadata": {},
          "execution_count": 24
        },
        {
          "output_type": "display_data",
          "data": {
            "text/plain": [
              "<Figure size 640x480 with 1 Axes>"
            ],
            "image/png": "[encoded data removed]"
          },
          "metadata": {}
        }
      ]
    },
    {
      "cell_type": "code",
      "source": [],
      "metadata": {
        "id": "s5zKDmZZ4Cii"
      },
      "execution_count": null,
      "outputs": []
    }
  ]
}